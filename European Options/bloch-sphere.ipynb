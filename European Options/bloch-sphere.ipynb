{
 "metadata": {
  "language_info": {
   "codemirror_mode": {
    "name": "ipython",
    "version": 3
   },
   "file_extension": ".py",
   "mimetype": "text/x-python",
   "name": "python",
   "nbconvert_exporter": "python",
   "pygments_lexer": "ipython3",
   "version": "3.9.2"
  },
  "orig_nbformat": 2,
  "kernelspec": {
   "name": "python392jvsc74a57bd0bdd0e85b6313f9c954d3787e60ab6c0f1c0e31203bc22b1fd1c580b6e55b07d3",
   "display_name": "Python 3.9.2 64-bit ('quantum-env': conda)"
  }
 },
 "nbformat": 4,
 "nbformat_minor": 2,
 "cells": [
  {
   "cell_type": "code",
   "execution_count": 1,
   "metadata": {},
   "outputs": [],
   "source": [
    "from qiskit.quantum_info import random_statevector"
   ]
  },
  {
   "cell_type": "code",
   "execution_count": 2,
   "metadata": {},
   "outputs": [],
   "source": [
    "state = random_statevector(3)"
   ]
  },
  {
   "cell_type": "code",
   "execution_count": 3,
   "metadata": {},
   "outputs": [
    {
     "output_type": "execute_result",
     "data": {
      "text/plain": [
       "'Statevector([ 0.07615895+0.14844072j,  0.46638164+0.10820336j,\\n             -0.40916782+0.758635j  ],\\n            dims=(3,))'"
      ]
     },
     "metadata": {},
     "execution_count": 3
    }
   ],
   "source": [
    "state.draw()"
   ]
  },
  {
   "cell_type": "code",
   "execution_count": 4,
   "metadata": {},
   "outputs": [],
   "source": [
    "conj = state.conjugate()"
   ]
  },
  {
   "cell_type": "code",
   "execution_count": 5,
   "metadata": {},
   "outputs": [
    {
     "output_type": "execute_result",
     "data": {
      "text/plain": [
       "'Statevector([ 0.07615895-0.14844072j,  0.46638164-0.10820336j,\\n             -0.40916782-0.758635j  ],\\n            dims=(3,))'"
      ]
     },
     "metadata": {},
     "execution_count": 5
    }
   ],
   "source": [
    "conj.draw()"
   ]
  },
  {
   "cell_type": "code",
   "execution_count": null,
   "metadata": {},
   "outputs": [],
   "source": []
  }
 ]
}