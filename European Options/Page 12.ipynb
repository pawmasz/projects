{
 "cells": [
  {
   "cell_type": "markdown",
   "metadata": {},
   "source": [
    "The goal of this script is to recreate the probabilities on page 12"
   ]
  },
  {
   "cell_type": "markdown",
   "metadata": {},
   "source": [
    "CNOT gate\n",
    "Source: https://qiskit.org/textbook/ch-gates/multiple-qubits-entangled-states.html#cnot\n",
    "\n",
    "$$\n",
    "CNOT(0,1) = \\begin{bmatrix}\n",
    "1 & 0& 0 & 0 \\\\\n",
    "0 & 0& 0 & 1 \\\\\n",
    "0 & 0& 1 & 0 \\\\\n",
    "0 & 1& 0 & 0 \\\\\n",
    "\\end{bmatrix}\n",
    "$$\n",
    "\n",
    "RY gate\n",
    "Source: https://qiskit.org/documentation/stubs/qiskit.circuit.library.RYGate.html\n",
    "\n",
    "$$\n",
    "RY(x) = \\begin{bmatrix}\n",
    "cos (\\frac{\\theta}{2}) & -sin (\\frac{\\theta}{2}) \\\\\n",
    "sin (\\frac{\\theta}{2}) & cos (\\frac{\\theta}{2})\n",
    "\\end{bmatrix}\n",
    "$$\n",
    "\n",
    "$$\n",
    "|0> = \\begin{bmatrix}\n",
    "1 \\\\\n",
    "0 \\\\\n",
    "\\end{bmatrix}\n",
    "$$"
   ]
  },
  {
   "cell_type": "markdown",
   "metadata": {},
   "source": [
    "Step 0: First RY gates"
   ]
  },
  {
   "cell_type": "markdown",
   "metadata": {},
   "source": [
    "$$\n",
    "|q_0>:\\begin{bmatrix}\n",
    "cos (\\frac{1.43}{2}) & -sin (\\frac{1.43}{2}) \\\\\n",
    "sin (\\frac{1.43}{2}) & cos (\\frac{1.43}{2})\n",
    "\\end{bmatrix} \n",
    "\\begin{bmatrix}\n",
    "1 \\\\\n",
    "0 \\\\\n",
    "\\end{bmatrix}\n",
    "=\n",
    "\\begin{bmatrix}\n",
    "cos (\\frac{1.43}{2}) \\\\\n",
    "sin (\\frac{1.43}{2}) \\\\\n",
    "\\end{bmatrix}\n",
    "$$"
   ]
  },
  {
   "cell_type": "markdown",
   "metadata": {},
   "source": [
    "$$\n",
    "|q_1>:\\begin{bmatrix}\n",
    "cos (\\frac{2.9}{2}) & -sin (\\frac{2.9}{2}) \\\\\n",
    "sin (\\frac{2.9}{2}) & cos (\\frac{2.9}{2})\n",
    "\\end{bmatrix} \n",
    "\\begin{bmatrix}\n",
    "1 \\\\\n",
    "0 \\\\\n",
    "\\end{bmatrix}\n",
    "=\n",
    "\\begin{bmatrix}\n",
    "cos (\\frac{2.9}{2}) \\\\\n",
    "sin (\\frac{2.9}{2}) \\\\\n",
    "\\end{bmatrix}\n",
    "$$"
   ]
  },
  {
   "cell_type": "markdown",
   "metadata": {},
   "source": [
    "Step 0 pt2"
   ]
  },
  {
   "cell_type": "markdown",
   "metadata": {},
   "source": [
    "Since next is a 2 gate operation, we need to use the tensor product"
   ]
  },
  {
   "cell_type": "markdown",
   "metadata": {},
   "source": [
    "$$\n",
    "|q_1 q_0> = \\begin{bmatrix}\n",
    "cos (\\frac{1.43}{2}) \\\\\n",
    "sin (\\frac{1.43}{2}) \\\\\n",
    "\\end{bmatrix}\n",
    "\\otimes \n",
    "\\begin{bmatrix}\n",
    "cos (\\frac{2.9}{2}) \\\\\n",
    "sin (\\frac{2.9}{2}) \\\\\n",
    "\\end{bmatrix}\n",
    "=\n",
    "\\begin{bmatrix}\n",
    "cos (\\frac{2.9}{2}) cos (\\frac{1.43}{2})\\\\\n",
    "cos (\\frac{2.9}{2}) sin (\\frac{1.43}{2})\\\\\n",
    "sin (\\frac{2.9}{2}) cos (\\frac{1.43}{2})\\\\\n",
    "sin (\\frac{2.9}{2}) sin (\\frac{1.43}{2})\\\\\n",
    "\\end{bmatrix}\n",
    "=\n",
    "\\begin{bmatrix}\n",
    "0.090990827\\\\\n",
    "0.079003714\\\\\n",
    "0.74959087\\\\\n",
    "0.650839927\\\\\n",
    "\\end{bmatrix}\n",
    "$$"
   ]
  },
  {
   "cell_type": "code",
   "execution_count": null,
   "metadata": {},
   "outputs": [],
   "source": [
    "Step 1 The CNOT gate"
   ]
  },
  {
   "cell_type": "markdown",
   "metadata": {},
   "source": [
    "$$\n",
    "\\begin{bmatrix}\n",
    "1 & 0& 0 & 0 \\\\\n",
    "0 & 0& 0 & 1 \\\\\n",
    "0 & 0& 1 & 0 \\\\\n",
    "0 & 1& 0 & 0 \\\\\n",
    "\\end{bmatrix}\n",
    "\\begin{bmatrix}\n",
    "0.090990827\\\\\n",
    "0.079003714\\\\\n",
    "0.74959087\\\\\n",
    "0.650839927\\\\\n",
    "\\end{bmatrix}\n",
    "=\n",
    "\\begin{bmatrix}\n",
    "0.090990827\\\\\n",
    "0.650839927\\\\\n",
    "0.74959087\\\\\n",
    "0.079003714\\\\\n",
    "\\end{bmatrix}\n",
    "$$\n",
    "\n"
   ]
  },
  {
   "cell_type": "markdown",
   "metadata": {},
   "source": [
    "Step 2 (Initial calc)  The second pair of RY gates tensor product"
   ]
  },
  {
   "cell_type": "markdown",
   "metadata": {},
   "source": [
    "$$\n",
    "\\begin{bmatrix}\n",
    "cos (\\frac{-0.93}{2}) & -sin (\\frac{-0.93}{2}) \\\\\n",
    "sin (\\frac{-0.93}{2}) & cos (\\frac{-0.93}{2})\n",
    "\\end{bmatrix}\n",
    "\\otimes\n",
    "\\begin{bmatrix}\n",
    "cos (\\frac{1.1}{2}) & -sin (\\frac{1.1}{2}) \\\\\n",
    "sin (\\frac{1.1}{2}) & cos (\\frac{1.1}{2})\n",
    "\\end{bmatrix}\n",
    "=\n",
    "\\begin{bmatrix}\n",
    "cos (\\frac{-0.93}{2}) cos (\\frac{1.1}{2}) & - cos (\\frac{-0.93}{2}) sin (\\frac{1.1}{2}) & -sin (\\frac{-0.93}{2}) cos (\\frac{1.1}{2}) & sin (\\frac{-0.93}{2}) sin (\\frac{1.1}{2}) \\\\\n",
    "cos (\\frac{-0.93}{2}) sin (\\frac{1.1}{2}) & cos (\\frac{-0.93}{2}) cos (\\frac{1.1}{2}) & -sin (\\frac{-0.93}{2}) sin (\\frac{1.1}{2}) & -sin (\\frac{-0.93}{2})cos (\\frac{1.1}{2}) \\\\\n",
    "sin (\\frac{-0.93}{2})cos (\\frac{1.1}{2}) & -sin (\\frac{-0.93}{2}) sin (\\frac{1.1}{2}) & cos (\\frac{-0.93}{2}) cos (\\frac{1.1}{2}) & - cos (\\frac{-0.93}{2})sin (\\frac{1.1}{2}) \\\\\n",
    "sin (\\frac{-0.93}{2}) sin (\\frac{1.1}{2}) & sin (\\frac{-0.93}{2}) cos (\\frac{1.1}{2}) & cos (\\frac{-0.93}{2}) sin (\\frac{1.1}{2})  & cos (\\frac{-0.93}{2}) cos (\\frac{1.1}{2}) \\\\\n",
    "\\end{bmatrix}\n",
    "=\n",
    "\\begin{bmatrix}\n",
    "0.762004803 & -0.467189117 & 0.382291434 & -0.234384871 \\\\\n",
    "0.467189117\t& 0.762004803\t& 0.234384871\t& 0.382291434\\\\\n",
    "-0.382291434 &\t0.234384871\t& 0.762004803 &\t-0.467189117\\\\\n",
    "-0.234384871\t& -0.382291434\t& 0.467189117\t& 0.762004803\\\\\n",
    "\\end{bmatrix}\n",
    "$$"
   ]
  },
  {
   "cell_type": "markdown",
   "metadata": {},
   "source": [
    "Step 2 The second pair of RY gates"
   ]
  },
  {
   "cell_type": "markdown",
   "metadata": {},
   "source": [
    "$$\n",
    "\\begin{bmatrix}\n",
    "0.762004803 & -0.467189117 & 0.382291434 & -0.234384871 \\\\\n",
    "0.467189117\t& 0.762004803\t& 0.234384871\t& 0.382291434\\\\\n",
    "-0.382291434 &\t0.234384871\t& 0.762004803 &\t-0.467189117\\\\\n",
    "-0.234384871\t& -0.382291434\t& 0.467189117\t& 0.762004803\\\\\n",
    "\\end{bmatrix}\n",
    "\\begin{bmatrix}\n",
    "0.090990827\\\\\n",
    "0.650839927\\\\\n",
    "0.74959087\\\\\n",
    "0.079003714\\\\\n",
    "\\end{bmatrix}\n",
    "=\n",
    "\\begin{bmatrix}\n",
    "0.03331501\\\\\n",
    "0.744348277\\\\\n",
    "0.652044187\\\\\n",
    "0.140264504\\\\\n",
    "\\end{bmatrix}\n",
    "$$\n",
    "\n"
   ]
  },
  {
   "cell_type": "markdown",
   "metadata": {},
   "source": [
    "Final calculation of probabilities. To do this, we multiply each base vector with the finals state"
   ]
  },
  {
   "cell_type": "markdown",
   "metadata": {},
   "source": [
    "$$\n",
    "\\begin{bmatrix}\n",
    "1&0&0&0\\\\\n",
    "0&1&0&0\\\\\n",
    "0&0&1&0\\\\\n",
    "0&0&0&1\n",
    "\\end{bmatrix}\n",
    "\\begin{bmatrix}\n",
    "0.03331501\\\\\n",
    "0.744348277\\\\\n",
    "0.652044187\\\\\n",
    "0.140264504\\\\\n",
    "\\end{bmatrix}\n",
    "=\n",
    "\\begin{bmatrix}\n",
    "0.03331501\\\\\n",
    "0.744348277\\\\\n",
    "0.652044187\\\\\n",
    "0.140264504\n",
    "\\end{bmatrix}\n",
    "$$\n"
   ]
  },
  {
   "cell_type": "markdown",
   "metadata": {},
   "source": [
    "Finally, the probabilities are"
   ]
  },
  {
   "cell_type": "markdown",
   "metadata": {},
   "source": [
    "$$\n",
    "\\left\\Vert\n",
    "\\begin{bmatrix}\n",
    "0.03331501\\\\\n",
    "0.744348277\\\\\n",
    "0.652044187\\\\\n",
    "0.140264504\n",
    "\\end{bmatrix}\n",
    "\\right\\Vert^2\n",
    "=\n",
    "\\begin{bmatrix}\n",
    " 0.00111\\\\ \n",
    " 0.55405 \\\\\n",
    " 0.42516 \\\\\n",
    " 0.01967 \n",
    "\\end{bmatrix}\n",
    "$$"
   ]
  },
  {
   "cell_type": "code",
   "execution_count": null,
   "metadata": {},
   "outputs": [],
   "source": []
  }
 ],
 "metadata": {
  "kernelspec": {
   "display_name": "Python 3.6.4 64-bit ('base': conda)",
   "language": "python",
   "name": "python36464bitbaseconda0147e48d69c64b59bf1e72da1c50bf89"
  },
  "language_info": {
   "codemirror_mode": {
    "name": "ipython",
    "version": 3
   },
   "file_extension": ".py",
   "mimetype": "text/x-python",
   "name": "python",
   "nbconvert_exporter": "python",
   "pygments_lexer": "ipython3",
   "version": "3.8.5"
  }
 },
 "nbformat": 4,
 "nbformat_minor": 4
}
